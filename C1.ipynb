{
 "cells": [
  {
   "cell_type": "code",
   "execution_count": 1,
   "metadata": {
    "id": "wnezKqVQXnMA"
   },
   "outputs": [
    {
     "data": {
      "text/html": [
       "<style>@keyframes moveBackground{0%{background-position:0 50%}100%{background-position:100% 50%}}</style>"
      ],
      "text/plain": [
       "<IPython.core.display.HTML object>"
      ]
     },
     "metadata": {},
     "output_type": "display_data"
    },
    {
     "data": {
      "text/html": [
       "<div class=\"alert alert-primary\" style=\"background:radial-gradient(circle at 20% 50%,rgba(255,0,0,.4),transparent),radial-gradient(circle at 50% 50%,rgba(0,255,0,.5),transparent),radial-gradient(circle at 80% 50%,rgba(0,0,255,.4),transparent),radial-gradient(circle at 20% 50%,rgba(255,0,0,.4),transparent);background-color:transparent;background-size:400% 400%;animation:moveBackground 60s linear infinite;color:#FFEFDF;padding:15px;border-radius:5px;font-weight:bold;font-family:monospace;box-shadow:0 4px 6px rgba(0,0,0,.5)\"><h1>🥶 Lanjut ke Proses download!!!!</h1><hr>🌍Proses: 100% - Silahkan Jalankan Proses yang ke dua</div>"
      ],
      "text/plain": [
       "<IPython.core.display.HTML object>"
      ]
     },
     "metadata": {},
     "output_type": "display_data"
    }
   ],
   "source": [
    "import zipfile\n",
    "import os\n",
    "from IPython.utils.io import capture_output\n",
    "from IPython.display import HTML, display, clear_output\n",
    "from IPython.display import clear_output\n",
    "from pathlib import Path\n",
    "def mostrar_en_div_estilizado(contenido):\n",
    "    from IPython.display import HTML, display\n",
    "    animation_style = \"\"\"@keyframes moveBackground{0%{background-position:0 50%}100%{background-position:100% 50%}}\"\"\"\n",
    "    div_style = \"\"\"background:radial-gradient(circle at 20% 50%,rgba(255,0,0,.4),transparent),radial-gradient(circle at 50% 50%,rgba(0,255,0,.5),transparent),radial-gradient(circle at 80% 50%,rgba(0,0,255,.4),transparent),radial-gradient(circle at 20% 50%,rgba(255,0,0,.4),transparent);background-color:transparent;background-size:400% 400%;animation:moveBackground 60s linear infinite;color:#FFEFDF;padding:15px;border-radius:5px;font-weight:bold;font-family:monospace;box-shadow:0 4px 6px rgba(0,0,0,.5)\"\"\"\n",
    "    display(HTML(f\"<style>{animation_style}</style>\"))\n",
    "    div = f'<div class=\"alert alert-primary\" style=\"{div_style}\">{contenido}</div>'\n",
    "    display(HTML(div))\n",
    "mostrar_en_div_estilizado(f\"<h1>🥱 Buru buru amat, Sabar aja Kak </h1><hr>🌏Proses: 8% - Setup ComfyUI\")\n",
    "with capture_output() as c:\n",
    "    OPTIONS = {}\n",
    "    UPDATE_COMFY_UI = True  #@param {type:\"boolean\"}\n",
    "    USE_COMFYUI_MANAGER = True  #@param {type:\"boolean\"}\n",
    "    WORKSPACE = 'ComfyUI'\n",
    "    OPTIONS['UPDATE_COMFY_UI'] = UPDATE_COMFY_UI\n",
    "    OPTIONS['USE_COMFYUI_MANAGER'] = USE_COMFYUI_MANAGER\n",
    "    ![ ! -d $WORKSPACE ] && echo -= Initial setup ComfyUI =- && git clone https://github.com/comfyanonymous/ComfyUI\n",
    "    del c\n",
    "clear_output()\n",
    "mostrar_en_div_estilizado(f\"<h1>😬 Minum Kopi dulu biar ga Ngantuk!</h1><hr>🌎Proses: 29% - Updating ComfyUI\")\n",
    "with capture_output() as c:\n",
    "    %cd $WORKSPACE\n",
    "    if OPTIONS['UPDATE_COMFY_UI']:\n",
    "      !echo -= Updating ComfyUI =-\n",
    "      !git pull\n",
    "    if OPTIONS['USE_COMFYUI_MANAGER']:\n",
    "      %cd custom_nodes\n",
    "      ![ ! -d ComfyUI-Manager ] && echo -= Initial setup ComfyUI-Manager =- && git clone https://github.com/ltdrdata/ComfyUI-Manager\n",
    "      %cd ComfyUI-Manager\n",
    "      !echo -= Updating ComfyUI Manager =-\n",
    "      !git pull\n",
    "      %cd ../..\n",
    "    del c\n",
    "clear_output()\n",
    "mostrar_en_div_estilizado(f\"<h1>😜 BTW Jangan lupa Sentuh rumput</h1><hr>🌏Proses: 45% - install torch\")\n",
    "with capture_output() as c:\n",
    "    %cd ../..\n",
    "    !echo -= Install dependencies =-\n",
    "    %pip install torch torchvision torchaudio --index-url https://download.pytorch.org/whl/cu118\n",
    "    del c\n",
    "clear_output()\n",
    "mostrar_en_div_estilizado(f\"<h1>😎 Kapan lagi ya kan, Bisa Pake ComfyUI</h1><hr>🌍Proses: 56% - install requirements\")\n",
    "with capture_output() as c:\n",
    "    %cd ../..\n",
    "    %pip install -r requirements.txt\n",
    "    del c\n",
    "clear_output()\n",
    "mostrar_en_div_estilizado(f\"<h1>🙂 Yang sabar ya kawan !</h1><hr>🌏Proses: 63% - Install pyngrok & tqdm\")\n",
    "with capture_output() as c:\n",
    "    %pip install pyngrok\n",
    "    %pip install tqdm\n",
    "    del c\n",
    "clear_output()\n",
    "mostrar_en_div_estilizado(f\"<h1>😘 Udah Hampir Selesai Nih</h1><hr>🌍Proses: 76% - Mempersiapkan folder sampah\")\n",
    "with capture_output() as c:\n",
    "    !rm -rf /home/studio-lab-user/.conda/envs/studiolab-safemode\n",
    "    !rm -rf /home/studio-lab-user/.conda/envs/sagemaker-distribution\n",
    "    !rm -rf /home/studio-lab-user/.conda/pkgs/cache\n",
    "    !pip cache purge\n",
    "    !rm -rf ~/.cache\n",
    "    !rm -rf /home/studio-lab-user/ComfyUI/models/checkpoints/tmp_checkpoints\n",
    "    !rm -rf /home/studio-lab-user/ComfyUI/models/clip/tmp_clip\n",
    "    !rm -rf /home/studio-lab-user/ComfyUI/models/clip_vision/tmp_clip_vision\n",
    "    !rm -rf /home/studio-lab-user/ComfyUI/models/configs/tmp_configs\n",
    "    !rm -rf /home/studio-lab-user/ComfyUI/models/controlnet/tmp_controlnet\n",
    "    !rm -rf /home/studio-lab-user/ComfyUI/models/diffusers/tmp_diffusers\n",
    "    !rm -rf /home/studio-lab-user/ComfyUI/models/embeddings/tmp_embeddings\n",
    "    !rm -rf /home/studio-lab-user/ComfyUI/models/gligen/tmp_gligen\n",
    "    !rm -rf /home/studio-lab-user/ComfyUI/models/hypernetworks/tmp_hypernetworks\n",
    "    !rm -rf /home/studio-lab-user/ComfyUI/models/loras/tmp_loras\n",
    "    !rm -rf /home/studio-lab-user/ComfyUI/models/style_models/tmp_style_models\n",
    "    !rm -rf /home/studio-lab-user/ComfyUI/models/unet/tmp_unet\n",
    "    !rm -rf /home/studio-lab-user/ComfyUI/models/upscale_models/tmp_upscale_models\n",
    "    !rm -rf /home/studio-lab-user/ComfyUI/models/vae/tmp_vae\n",
    "    !rm -rf /home/studio-lab-user/ComfyUI/models/vae_approx/tmp_vae_approx\n",
    "    !ln -vs /tmp ~/tmp\n",
    "    !ln -vs /tmp/checkpoints /home/studio-lab-user/ComfyUI/models/checkpoints/tmp_checkpoints\n",
    "    !ln -vs /tmp/clip /home/studio-lab-user/ComfyUI/models/clip/tmp_clip\n",
    "    !ln -vs /tmp/clip_vision /home/studio-lab-user/ComfyUI/models/clip_vision/tmp_clip_vision\n",
    "    !ln -vs /tmp/configs /home/studio-lab-user/ComfyUI/models/configs/tmp_configs\n",
    "    !ln -vs /tmp/controlnet /home/studio-lab-user/ComfyUI/models/controlnet/tmp_controlnet\n",
    "    !ln -vs /tmp/diffusers /home/studio-lab-user/ComfyUI/models/diffusers/tmp_diffusers\n",
    "    !ln -vs /tmp/embeddings /home/studio-lab-user/ComfyUI/models/embeddings/tmp_embeddings\n",
    "    !ln -vs /tmp/gligen /home/studio-lab-user/ComfyUI/models/gligen/tmp_gligen\n",
    "    !ln -vs /tmp/hypernetworks /home/studio-lab-user/ComfyUI/models/hypernetworks/tmp_hypernetworks\n",
    "    !ln -vs /tmp/loras /home/studio-lab-user/ComfyUI/models/loras/tmp_loras\n",
    "    !ln -vs /tmp/style_models /home/studio-lab-user/ComfyUI/models/style_models/tmp_style_models\n",
    "    !ln -vs /tmp/unet /home/studio-lab-user/ComfyUI/models/unet/tmp_unet\n",
    "    !ln -vs /tmp/upscale_models /home/studio-lab-user/ComfyUI/models/upscale_models/tmp_upscale_models\n",
    "    !ln -vs /tmp/vae /home/studio-lab-user/ComfyUI/models/vae/tmp_vae\n",
    "    !ln -vs /tmp/vae_approx /home/studio-lab-user/ComfyUI/models/vae_approx/tmp_vae_approx\n",
    "    !mkdir -p /tmp/checkpoints\n",
    "    !mkdir -p /tmp/clip\n",
    "    !mkdir -p /tmp/clip_vision\n",
    "    !mkdir -p /tmp/configs\n",
    "    !mkdir -p /tmp/controlnet\n",
    "    !mkdir -p /tmp/diffusers\n",
    "    !mkdir -p /tmp/embeddings\n",
    "    !mkdir -p /tmp/gligen\n",
    "    !mkdir -p /tmp/hypernetworks\n",
    "    !mkdir -p /tmp/loras\n",
    "    !mkdir -p /tmp/style_models\n",
    "    !mkdir -p /tmp/unet\n",
    "    !mkdir -p /tmp/upscale_models\n",
    "    !mkdir -p /tmp/vae\n",
    "    !mkdir -p /tmp/vae_approx\n",
    "    del c\n",
    "clear_output()\n",
    "mostrar_en_div_estilizado(f\"<h1>🥶 Lanjut ke Proses download!!!!</h1><hr>🌍Proses: 100% - Silahkan Jalankan Proses yang ke dua\")\n"
   ]
  }
 ],
 "metadata": {
  "colab": {
   "provenance": []
  },
  "kernelspec": {
   "display_name": "default:Python",
   "language": "python",
   "name": "conda-env-default-py"
  },
  "language_info": {
   "codemirror_mode": {
    "name": "ipython",
    "version": 3
   },
   "file_extension": ".py",
   "mimetype": "text/x-python",
   "name": "python",
   "nbconvert_exporter": "python",
   "pygments_lexer": "ipython3",
   "version": "3.10.12"
  }
 },
 "nbformat": 4,
 "nbformat_minor": 4
}
