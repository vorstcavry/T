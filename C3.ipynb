{
 "cells": [
  {
   "cell_type": "code",
   "execution_count": null,
   "metadata": {
    "id": "wnezKqVQXnMA"
   },
   "outputs": [],
   "source": [
    "!find ./models -type f -size +10k\n",
    "# Put ComfyUI command line args here\n",
    "args = \"--preview-method auto --enable-cors-header --use-pytorch-cross-attention\"\n",
    "\n",
    "\n",
    "from threading import Timer\n",
    "from queue import Queue\n",
    "from pyngrok import ngrok\n",
    "import os\n",
    "\n",
    "def ngrok_tunnel(port,queue,auth_token):\n",
    "    ngrok.set_auth_token(auth_token)\n",
    "    url = ngrok.connect(port)\n",
    "    queue.put(url)\n",
    "    \n",
    "def launch_comfy(ngrok_token, url_adress, args):\n",
    "    if ngrok_token:\n",
    "        ngrok_output_queue = Queue()\n",
    "        ngrok_thread = Timer(2, ngrok_tunnel, args=(8188, ngrok_output_queue, ngrok_token))\n",
    "        ngrok_thread.start()\n",
    "        ngrok_thread.join()\n",
    "        print(ngrok_output_queue.get())\n",
    "    elif url_adress:\n",
    "        print(f'Wait for local URL to appear, then use this link:')\n",
    "        print(f'{sage_url}/studiolab/default/jupyter/proxy/8188/\\n')\n",
    "    else:\n",
    "        print(f\"-= Please fill your ngrok token or studiolab url address =-\\nExiting...\")\n",
    "        return\n",
    "    os.system(\"python main.py \" + args)\n",
    "    \n",
    "launch_comfy(ngrok_token, sage_url, args)"
   ]
  }
 ],
 "metadata": {
  "colab": {
   "provenance": []
  },
  "kernelspec": {
   "display_name": "default:Python",
   "language": "python",
   "name": "conda-env-default-py"
  },
  "language_info": {
   "codemirror_mode": {
    "name": "ipython",
    "version": 3
   },
   "file_extension": ".py",
   "mimetype": "text/x-python",
   "name": "python",
   "nbconvert_exporter": "python",
   "pygments_lexer": "ipython3",
   "version": "3.10.12"
  }
 },
 "nbformat": 4,
 "nbformat_minor": 4
}
